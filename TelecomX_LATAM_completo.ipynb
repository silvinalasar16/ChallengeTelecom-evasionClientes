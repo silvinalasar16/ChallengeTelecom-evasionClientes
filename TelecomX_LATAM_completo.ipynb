{
 "cells": [
  {
   "cell_type": "markdown",
   "id": "2bcb4a56",
   "metadata": {},
   "source": [
    "\n",
    "# 📊 Análisis de Evasión de Clientes en TelecomX LATAM\n",
    "\n",
    "Este notebook documenta el análisis completo de los datos de clientes de **TelecomX**.  \n",
    "El objetivo es comprender el fenómeno de **evasión de clientes (Churn)** y proponer estrategias de retención.\n",
    "\n",
    "---\n",
    "\n",
    "## 🔹 Objetivos del análisis\n",
    "1. Cargar y limpiar los datos desde la API.  \n",
    "2. Comprender la estructura del dataset y sus variables.  \n",
    "3. Identificar problemas de calidad de datos y aplicar correcciones.  \n",
    "4. Realizar un análisis exploratorio de datos (EDA) con métricas descriptivas y visualizaciones.  \n",
    "5. Extraer conclusiones e insights clave para la retención de clientes.  \n",
    "6. Elaborar un informe final con recomendaciones estratégicas.  \n"
   ]
  },
  {
   "cell_type": "code",
   "execution_count": null,
   "id": "67de6bfa",
   "metadata": {},
   "outputs": [],
   "source": [
    "\n",
    "# ========================================\n",
    "# Importar librerías\n",
    "# ========================================\n",
    "import requests\n",
    "import pandas as pd\n",
    "import numpy as np\n",
    "import matplotlib.pyplot as plt\n",
    "import seaborn as sns\n",
    "import plotly.express as px\n",
    "\n",
    "# Configuración de gráficos\n",
    "plt.style.use('seaborn-v0_8')\n",
    "sns.set_theme()\n"
   ]
  },
  {
   "cell_type": "code",
   "execution_count": null,
   "id": "ff7ddb2a",
   "metadata": {},
   "outputs": [],
   "source": [
    "\n",
    "# ========================================\n",
    "#  Cargar datos desde la API\n",
    "# ========================================\n",
    "url = \"https://raw.githubusercontent.com/sthemonica/alura-voz/refs/heads/main/Dados/Telco-Customer-Churn.json\"\n",
    "\n",
    "response = requests.get(url)\n",
    "data = response.json()\n",
    "\n",
    "# Normalizar datos JSON\n",
    "df = pd.json_normalize(data)\n",
    "\n",
    "# Vista inicial\n",
    "df.head()\n"
   ]
  },
  {
   "cell_type": "code",
   "execution_count": null,
   "id": "c496d480",
   "metadata": {},
   "outputs": [],
   "source": [
    "\n",
    "# ========================================\n",
    "# Exploración inicial del dataset\n",
    "# ========================================\n",
    "print(\"Información general:\")\n",
    "print(df.info())\n",
    "\n",
    "print(\"\\nValores únicos por columna:\")\n",
    "for col in df.columns:\n",
    "    print(f\"{col}: {df[col].nunique()} únicos\")\n"
   ]
  },
  {
   "cell_type": "code",
   "execution_count": null,
   "id": "7d8fa30f",
   "metadata": {},
   "outputs": [],
   "source": [
    "\n",
    "# ========================================\n",
    "# Limpieza y tratamiento de datos\n",
    "# ========================================\n",
    "\n",
    "# Reemplazar espacios vacíos por NaN\n",
    "df = df.replace(r'^\\s*$', pd.NA, regex=True)\n",
    "\n",
    "# Eliminar duplicados\n",
    "df = df.drop_duplicates()\n",
    "\n",
    "# Conversión de columnas numéricas\n",
    "df['account.Charges.Total'] = pd.to_numeric(df['account.Charges.Total'], errors='coerce')\n",
    "df['account.Charges.Monthly'] = pd.to_numeric(df['account.Charges.Monthly'], errors='coerce')\n",
    "\n",
    "# Eliminar filas sin valor en Churn\n",
    "df = df[df['Churn'].notna()]\n",
    "\n",
    "# Unificación de categorías inconsistentes\n",
    "cols_internet = [c for c in df.columns if 'internet' in c]\n",
    "for col in cols_internet:\n",
    "    df[col] = df[col].replace({'No internet service': 'No'})\n",
    "\n",
    "# Crear columna Cuentas_Diarias\n",
    "df['Cuentas_Diarias'] = df['account.Charges.Monthly'] / 30\n",
    "\n",
    "df.info()\n"
   ]
  },
  {
   "cell_type": "code",
   "execution_count": null,
   "id": "f0a6e1a1",
   "metadata": {},
   "outputs": [],
   "source": [
    "\n",
    "# ========================================\n",
    "# Análisis descriptivo de datos numéricos\n",
    "# ========================================\n",
    "print(\"📊 Estadísticas descriptivas:\")\n",
    "display(df.describe())\n",
    "\n",
    "print(\"\\n📊 Mediana:\")\n",
    "print(df.median(numeric_only=True))\n",
    "\n",
    "print(\"\\n📊 Desviación estándar:\")\n",
    "print(df.std(numeric_only=True))\n"
   ]
  },
  {
   "cell_type": "code",
   "execution_count": null,
   "id": "b290bb85",
   "metadata": {},
   "outputs": [],
   "source": [
    "\n",
    "# ========================================\n",
    "#  Distribución de Churn\n",
    "# ========================================\n",
    "churn_counts = df['Churn'].value_counts(normalize=True) * 100\n",
    "print(\"Distribución de Churn (%):\")\n",
    "print(churn_counts)\n",
    "\n",
    "# Gráfico circular\n",
    "fig = px.pie(df, names=\"Churn\", title=\"Proporción de clientes: Retención vs Evasión\")\n",
    "fig.show()\n"
   ]
  },
  {
   "cell_type": "code",
   "execution_count": null,
   "id": "e1b3e4f5",
   "metadata": {},
   "outputs": [],
   "source": [
    "\n",
    "# ========================================\n",
    "#  Churn según variables categóricas\n",
    "# ========================================\n",
    "categoricas = ['customer.gender', 'account.Contract', 'account.PaymentMethod', \n",
    "               'phone.PhoneService', 'internet.InternetService', 'internet.StreamingTV']\n",
    "\n",
    "for col in categoricas:\n",
    "    fig = px.histogram(df, x=col, color=\"Churn\", barmode=\"group\", text_auto=True,\n",
    "                       title=f\"Evasión por {col}\")\n",
    "    fig.show()\n"
   ]
  },
  {
   "cell_type": "code",
   "execution_count": null,
   "id": "6dd7703c",
   "metadata": {},
   "outputs": [],
   "source": [
    "\n",
    "# ========================================\n",
    "#Churn según variables numéricas\n",
    "# ========================================\n",
    "numericas = ['customer.tenure', 'account.Charges.Monthly', 'account.Charges.Total', 'Cuentas_Diarias']\n",
    "\n",
    "for col in numericas:\n",
    "    fig = px.box(df, x=\"Churn\", y=col, color=\"Churn\", \n",
    "                 title=f\"{col} según Churn\")\n",
    "    fig.show()\n",
    "\n",
    "# Dispersión tenure vs cargos mensuales\n",
    "fig = px.scatter(df, x=\"customer.tenure\", y=\"account.Charges.Monthly\", \n",
    "                 color=\"Churn\", title=\"Tenure vs Cargos mensuales por Churn\")\n",
    "fig.show()\n"
   ]
  }
 ],
 "metadata": {
  "language_info": {
   "name": "python"
  }
 },
 "nbformat": 4,
 "nbformat_minor": 5
}
